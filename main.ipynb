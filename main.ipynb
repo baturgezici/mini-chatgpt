{
 "cells": [
  {
   "cell_type": "code",
   "execution_count": 46,
   "metadata": {},
   "outputs": [],
   "source": [
    "with open(\"input.txt\", \"r\", encoding=\"utf-8\") as f:\n",
    "    text = f.read()"
   ]
  },
  {
   "cell_type": "code",
   "execution_count": 47,
   "metadata": {},
   "outputs": [
    {
     "name": "stdout",
     "output_type": "stream",
     "text": [
      "length of dataset in characters: 1115394\n"
     ]
    }
   ],
   "source": [
    "print(\"length of dataset in characters:\", len(text))"
   ]
  },
  {
   "cell_type": "code",
   "execution_count": 48,
   "metadata": {},
   "outputs": [
    {
     "name": "stdout",
     "output_type": "stream",
     "text": [
      "First Citizen:\n",
      "Before we proceed any further, hear me speak.\n",
      "\n",
      "All:\n",
      "Speak, speak.\n",
      "\n",
      "First Citizen:\n",
      "You are all resolved rather to die than to famish?\n",
      "\n",
      "All:\n",
      "Resolved. resolved.\n",
      "\n",
      "First Citizen:\n",
      "First, you know Caius Marcius is chief enemy to the people.\n",
      "\n",
      "All:\n",
      "We know't, we know't.\n",
      "\n",
      "First Citizen:\n",
      "Let us kill him, and we'll have corn at our own price.\n",
      "Is't a verdict?\n",
      "\n",
      "All:\n",
      "No more talking on't; let it be done: away, away!\n",
      "\n",
      "Second Citizen:\n",
      "One word, good citizens.\n",
      "\n",
      "First Citizen:\n",
      "We are accounted poor citizens, the patricians good.\n",
      "What authority surfeits on would relieve us: if they\n",
      "would yield us but the superfluity, while it were\n",
      "wholesome, we might guess they relieved us humanely;\n",
      "but they think we are too dear: the leanness that\n",
      "afflicts us, the object of our misery, is as an\n",
      "inventory to particularise their abundance; our\n",
      "sufferance is a gain to them Let us revenge this with\n",
      "our pikes, ere we become rakes: for the gods know I\n",
      "speak this in hunger for bread, not in thirst for revenge.\n",
      "\n",
      "\n"
     ]
    }
   ],
   "source": [
    "print(text[:1000])"
   ]
  },
  {
   "cell_type": "code",
   "execution_count": 49,
   "metadata": {},
   "outputs": [
    {
     "name": "stdout",
     "output_type": "stream",
     "text": [
      "\n",
      " !$&',-.3:;?ABCDEFGHIJKLMNOPQRSTUVWXYZabcdefghijklmnopqrstuvwxyz\n",
      "vocab size: 65\n"
     ]
    }
   ],
   "source": [
    "chars = sorted(list(set(text)))\n",
    "vocab_size = len(chars)\n",
    "print(\"\".join(chars))\n",
    "print(\"vocab size:\", vocab_size)"
   ]
  },
  {
   "cell_type": "code",
   "execution_count": 50,
   "metadata": {},
   "outputs": [
    {
     "name": "stdout",
     "output_type": "stream",
     "text": [
      "encoded: [46, 43, 50, 50, 53]\n",
      "decoded: hello\n"
     ]
    }
   ],
   "source": [
    "stoi = {ch:i for i,ch in enumerate(chars)}\n",
    "itos = {i:ch for i,ch in enumerate(chars)}\n",
    "encode = lambda x: [stoi[ch] for ch in x]\n",
    "decode = lambda x: \"\".join([itos[i] for i in x])\n",
    "\n",
    "print(\"encoded:\", encode(\"hello\"))\n",
    "print(\"decoded:\", decode(encode(\"hello\")))"
   ]
  },
  {
   "cell_type": "code",
   "execution_count": 51,
   "metadata": {},
   "outputs": [],
   "source": [
    "import torch\n",
    "import torch.nn as nn\n",
    "from torch.nn import functional as F\n",
    "torch.manual_seed(1337)\n",
    "device = torch.device(\"cuda\" if torch.cuda.is_available() else \"cpu\")\n",
    "learning_rate = 1e-2\n",
    "eval_interval = 300\n",
    "batch_size = 32\n",
    "block_size = 8\n",
    "max_iters = 3000\n",
    "eval_iters = 200\n",
    "n_embd = 32"
   ]
  },
  {
   "cell_type": "code",
   "execution_count": 52,
   "metadata": {},
   "outputs": [
    {
     "name": "stdout",
     "output_type": "stream",
     "text": [
      "torch.Size([1115394]) torch.int64\n",
      "tensor([18, 47, 56, 57, 58,  1, 15, 47, 58, 47, 64, 43, 52, 10,  0, 14, 43, 44,\n",
      "        53, 56, 43,  1, 61, 43,  1, 54, 56, 53, 41, 43, 43, 42,  1, 39, 52, 63,\n",
      "         1, 44, 59, 56, 58, 46, 43, 56,  6,  1, 46, 43, 39, 56,  1, 51, 43,  1,\n",
      "        57, 54, 43, 39, 49,  8,  0,  0, 13, 50, 50, 10,  0, 31, 54, 43, 39, 49,\n",
      "         6,  1, 57, 54, 43, 39, 49,  8,  0,  0, 18, 47, 56, 57, 58,  1, 15, 47,\n",
      "        58, 47, 64, 43, 52, 10,  0, 37, 53, 59,  1, 39, 56, 43,  1, 39, 50, 50,\n",
      "         1, 56, 43, 57, 53, 50, 60, 43, 42,  1, 56, 39, 58, 46, 43, 56,  1, 58,\n",
      "        53,  1, 42, 47, 43,  1, 58, 46, 39, 52,  1, 58, 53,  1, 44, 39, 51, 47,\n",
      "        57, 46, 12,  0,  0, 13, 50, 50, 10,  0, 30, 43, 57, 53, 50, 60, 43, 42,\n",
      "         8,  1, 56, 43, 57, 53, 50, 60, 43, 42,  8,  0,  0, 18, 47, 56, 57, 58,\n",
      "         1, 15, 47, 58, 47, 64, 43, 52, 10,  0, 18, 47, 56, 57, 58,  6,  1, 63,\n",
      "        53, 59,  1, 49, 52, 53, 61,  1, 15, 39, 47, 59, 57,  1, 25, 39, 56, 41,\n",
      "        47, 59, 57,  1, 47, 57,  1, 41, 46, 47, 43, 44,  1, 43, 52, 43, 51, 63,\n",
      "         1, 58, 53,  1, 58, 46, 43,  1, 54, 43, 53, 54, 50, 43,  8,  0,  0, 13,\n",
      "        50, 50, 10,  0, 35, 43,  1, 49, 52, 53, 61,  5, 58,  6,  1, 61, 43,  1,\n",
      "        49, 52, 53, 61,  5, 58,  8,  0,  0, 18, 47, 56, 57, 58,  1, 15, 47, 58,\n",
      "        47, 64, 43, 52, 10,  0, 24, 43, 58,  1, 59, 57,  1, 49, 47, 50, 50,  1,\n",
      "        46, 47, 51,  6,  1, 39, 52, 42,  1, 61, 43,  5, 50, 50,  1, 46, 39, 60,\n",
      "        43,  1, 41, 53, 56, 52,  1, 39, 58,  1, 53, 59, 56,  1, 53, 61, 52,  1,\n",
      "        54, 56, 47, 41, 43,  8,  0, 21, 57,  5, 58,  1, 39,  1, 60, 43, 56, 42,\n",
      "        47, 41, 58, 12,  0,  0, 13, 50, 50, 10,  0, 26, 53,  1, 51, 53, 56, 43,\n",
      "         1, 58, 39, 50, 49, 47, 52, 45,  1, 53, 52,  5, 58, 11,  1, 50, 43, 58,\n",
      "         1, 47, 58,  1, 40, 43,  1, 42, 53, 52, 43, 10,  1, 39, 61, 39, 63,  6,\n",
      "         1, 39, 61, 39, 63,  2,  0,  0, 31, 43, 41, 53, 52, 42,  1, 15, 47, 58,\n",
      "        47, 64, 43, 52, 10,  0, 27, 52, 43,  1, 61, 53, 56, 42,  6,  1, 45, 53,\n",
      "        53, 42,  1, 41, 47, 58, 47, 64, 43, 52, 57,  8,  0,  0, 18, 47, 56, 57,\n",
      "        58,  1, 15, 47, 58, 47, 64, 43, 52, 10,  0, 35, 43,  1, 39, 56, 43,  1,\n",
      "        39, 41, 41, 53, 59, 52, 58, 43, 42,  1, 54, 53, 53, 56,  1, 41, 47, 58,\n",
      "        47, 64, 43, 52, 57,  6,  1, 58, 46, 43,  1, 54, 39, 58, 56, 47, 41, 47,\n",
      "        39, 52, 57,  1, 45, 53, 53, 42,  8,  0, 35, 46, 39, 58,  1, 39, 59, 58,\n",
      "        46, 53, 56, 47, 58, 63,  1, 57, 59, 56, 44, 43, 47, 58, 57,  1, 53, 52,\n",
      "         1, 61, 53, 59, 50, 42,  1, 56, 43, 50, 47, 43, 60, 43,  1, 59, 57, 10,\n",
      "         1, 47, 44,  1, 58, 46, 43, 63,  0, 61, 53, 59, 50, 42,  1, 63, 47, 43,\n",
      "        50, 42,  1, 59, 57,  1, 40, 59, 58,  1, 58, 46, 43,  1, 57, 59, 54, 43,\n",
      "        56, 44, 50, 59, 47, 58, 63,  6,  1, 61, 46, 47, 50, 43,  1, 47, 58,  1,\n",
      "        61, 43, 56, 43,  0, 61, 46, 53, 50, 43, 57, 53, 51, 43,  6,  1, 61, 43,\n",
      "         1, 51, 47, 45, 46, 58,  1, 45, 59, 43, 57, 57,  1, 58, 46, 43, 63,  1,\n",
      "        56, 43, 50, 47, 43, 60, 43, 42,  1, 59, 57,  1, 46, 59, 51, 39, 52, 43,\n",
      "        50, 63, 11,  0, 40, 59, 58,  1, 58, 46, 43, 63,  1, 58, 46, 47, 52, 49,\n",
      "         1, 61, 43,  1, 39, 56, 43,  1, 58, 53, 53,  1, 42, 43, 39, 56, 10,  1,\n",
      "        58, 46, 43,  1, 50, 43, 39, 52, 52, 43, 57, 57,  1, 58, 46, 39, 58,  0,\n",
      "        39, 44, 44, 50, 47, 41, 58, 57,  1, 59, 57,  6,  1, 58, 46, 43,  1, 53,\n",
      "        40, 48, 43, 41, 58,  1, 53, 44,  1, 53, 59, 56,  1, 51, 47, 57, 43, 56,\n",
      "        63,  6,  1, 47, 57,  1, 39, 57,  1, 39, 52,  0, 47, 52, 60, 43, 52, 58,\n",
      "        53, 56, 63,  1, 58, 53,  1, 54, 39, 56, 58, 47, 41, 59, 50, 39, 56, 47,\n",
      "        57, 43,  1, 58, 46, 43, 47, 56,  1, 39, 40, 59, 52, 42, 39, 52, 41, 43,\n",
      "        11,  1, 53, 59, 56,  0, 57, 59, 44, 44, 43, 56, 39, 52, 41, 43,  1, 47,\n",
      "        57,  1, 39,  1, 45, 39, 47, 52,  1, 58, 53,  1, 58, 46, 43, 51,  1, 24,\n",
      "        43, 58,  1, 59, 57,  1, 56, 43, 60, 43, 52, 45, 43,  1, 58, 46, 47, 57,\n",
      "         1, 61, 47, 58, 46,  0, 53, 59, 56,  1, 54, 47, 49, 43, 57,  6,  1, 43,\n",
      "        56, 43,  1, 61, 43,  1, 40, 43, 41, 53, 51, 43,  1, 56, 39, 49, 43, 57,\n",
      "        10,  1, 44, 53, 56,  1, 58, 46, 43,  1, 45, 53, 42, 57,  1, 49, 52, 53,\n",
      "        61,  1, 21,  0, 57, 54, 43, 39, 49,  1, 58, 46, 47, 57,  1, 47, 52,  1,\n",
      "        46, 59, 52, 45, 43, 56,  1, 44, 53, 56,  1, 40, 56, 43, 39, 42,  6,  1,\n",
      "        52, 53, 58,  1, 47, 52,  1, 58, 46, 47, 56, 57, 58,  1, 44, 53, 56,  1,\n",
      "        56, 43, 60, 43, 52, 45, 43,  8,  0,  0])\n"
     ]
    }
   ],
   "source": [
    "data = torch.tensor(encode(text), dtype=torch.long)\n",
    "print(data.shape, data.dtype)\n",
    "print(data[:1000])"
   ]
  },
  {
   "cell_type": "code",
   "execution_count": 53,
   "metadata": {},
   "outputs": [],
   "source": [
    "n = int(len(data)*0.9)\n",
    "train_data = data[:n]\n",
    "val_data = data[n:]"
   ]
  },
  {
   "cell_type": "code",
   "execution_count": 54,
   "metadata": {},
   "outputs": [
    {
     "data": {
      "text/plain": [
       "tensor([18, 47, 56, 57, 58,  1, 15, 47, 58])"
      ]
     },
     "execution_count": 54,
     "metadata": {},
     "output_type": "execute_result"
    }
   ],
   "source": [
    "train_data[:block_size+1]"
   ]
  },
  {
   "cell_type": "code",
   "execution_count": 55,
   "metadata": {},
   "outputs": [
    {
     "name": "stdout",
     "output_type": "stream",
     "text": [
      "when input is tensor([18]) target is 47\n",
      "when input is tensor([18, 47]) target is 56\n",
      "when input is tensor([18, 47, 56]) target is 57\n",
      "when input is tensor([18, 47, 56, 57]) target is 58\n",
      "when input is tensor([18, 47, 56, 57, 58]) target is 1\n",
      "when input is tensor([18, 47, 56, 57, 58,  1]) target is 15\n",
      "when input is tensor([18, 47, 56, 57, 58,  1, 15]) target is 47\n",
      "when input is tensor([18, 47, 56, 57, 58,  1, 15, 47]) target is 58\n"
     ]
    }
   ],
   "source": [
    "x = train_data[:block_size]\n",
    "y = train_data[1:block_size+1]\n",
    "for t in range(block_size):\n",
    "    context = x[:t+1]\n",
    "    target = y[t]\n",
    "    print(f\"when input is {context} target is {target}\")"
   ]
  },
  {
   "cell_type": "code",
   "execution_count": 56,
   "metadata": {},
   "outputs": [
    {
     "name": "stdout",
     "output_type": "stream",
     "text": [
      "inputs:\n",
      "torch.Size([32, 8])\n",
      "tensor([[24, 43, 58,  5, 57,  1, 46, 43],\n",
      "        [44, 53, 56,  1, 58, 46, 39, 58],\n",
      "        [52, 58,  1, 58, 46, 39, 58,  1],\n",
      "        [25, 17, 27, 10,  0, 21,  1, 54],\n",
      "        [57, 43, 60, 43, 52,  1, 63, 43],\n",
      "        [60, 43, 42,  8,  0, 25, 63,  1],\n",
      "        [56, 42,  5, 57,  1, 57, 39, 49],\n",
      "        [43, 57, 58, 63,  6,  1, 58, 46],\n",
      "        [43,  1, 51, 39, 63,  1, 40, 43],\n",
      "        [58, 46, 43,  1, 43, 39, 56, 57],\n",
      "        [39, 58, 47, 53, 52, 12,  1, 37],\n",
      "        [53, 56, 43,  1, 21,  1, 41, 39],\n",
      "        [50, 39, 52, 63,  1, 47, 58, 57],\n",
      "        [56, 53, 63,  1, 42, 47, 42,  1],\n",
      "        [39, 51,  1, 39, 44, 56, 39, 47],\n",
      "        [17, 24, 21, 38, 13, 14, 17, 32],\n",
      "        [ 1, 39, 52, 42,  1, 45, 43, 50],\n",
      "        [ 1, 58, 46, 39, 58,  1, 42, 53],\n",
      "        [ 1, 61, 53, 59, 50, 42,  1, 21],\n",
      "        [59, 57, 40, 39, 52, 42,  1, 40],\n",
      "        [52, 42,  8,  0,  0, 23, 21, 26],\n",
      "        [45, 53, 42, 57,  0, 23, 43, 43],\n",
      "        [52,  1, 61, 39, 57,  1, 51, 53],\n",
      "        [39, 49, 12,  1, 27,  1, 58, 56],\n",
      "        [53, 44,  1, 57, 54, 43, 43, 41],\n",
      "        [57, 53, 52, 57,  8,  0,  0, 25],\n",
      "        [ 1, 42, 43, 44, 43, 41, 58,  1],\n",
      "        [21,  1, 61, 39, 52, 42, 43, 56],\n",
      "        [43, 43, 51,  5, 42,  1, 40, 59],\n",
      "        [45, 50, 63,  1, 52, 53, 61, 12],\n",
      "        [52, 53, 58,  8,  0, 25, 63,  1],\n",
      "        [53, 58,  6,  1, 51, 63,  1, 50]], device='cuda:0')\n",
      "targets:\n",
      "torch.Size([32, 8])\n",
      "tensor([[43, 58,  5, 57,  1, 46, 43, 39],\n",
      "        [53, 56,  1, 58, 46, 39, 58,  1],\n",
      "        [58,  1, 58, 46, 39, 58,  1, 46],\n",
      "        [17, 27, 10,  0, 21,  1, 54, 39],\n",
      "        [43, 60, 43, 52,  1, 63, 43, 39],\n",
      "        [43, 42,  8,  0, 25, 63,  1, 45],\n",
      "        [42,  5, 57,  1, 57, 39, 49, 43],\n",
      "        [57, 58, 63,  6,  1, 58, 46, 47],\n",
      "        [ 1, 51, 39, 63,  1, 40, 43,  1],\n",
      "        [46, 43,  1, 43, 39, 56, 57, 10],\n",
      "        [58, 47, 53, 52, 12,  1, 37, 53],\n",
      "        [56, 43,  1, 21,  1, 41, 39, 51],\n",
      "        [39, 52, 63,  1, 47, 58, 57, 43],\n",
      "        [53, 63,  1, 42, 47, 42,  1, 57],\n",
      "        [51,  1, 39, 44, 56, 39, 47, 42],\n",
      "        [24, 21, 38, 13, 14, 17, 32, 20],\n",
      "        [39, 52, 42,  1, 45, 43, 50, 42],\n",
      "        [58, 46, 39, 58,  1, 42, 53,  1],\n",
      "        [61, 53, 59, 50, 42,  1, 21,  1],\n",
      "        [57, 40, 39, 52, 42,  1, 40, 47],\n",
      "        [42,  8,  0,  0, 23, 21, 26, 19],\n",
      "        [53, 42, 57,  0, 23, 43, 43, 54],\n",
      "        [ 1, 61, 39, 57,  1, 51, 53, 56],\n",
      "        [49, 12,  1, 27,  1, 58, 56, 39],\n",
      "        [44,  1, 57, 54, 43, 43, 41, 46],\n",
      "        [53, 52, 57,  8,  0,  0, 25, 17],\n",
      "        [42, 43, 44, 43, 41, 58,  1, 53],\n",
      "        [ 1, 61, 39, 52, 42, 43, 56,  6],\n",
      "        [43, 51,  5, 42,  1, 40, 59, 56],\n",
      "        [50, 63,  1, 52, 53, 61, 12,  0],\n",
      "        [53, 58,  8,  0, 25, 63,  1, 61],\n",
      "        [58,  6,  1, 51, 63,  1, 50, 53]], device='cuda:0')\n",
      "------\n",
      "when input is [24] target is 43\n",
      "when input is [24, 43] target is 58\n",
      "when input is [24, 43, 58] target is 5\n",
      "when input is [24, 43, 58, 5] target is 57\n",
      "when input is [24, 43, 58, 5, 57] target is 1\n",
      "when input is [24, 43, 58, 5, 57, 1] target is 46\n",
      "when input is [24, 43, 58, 5, 57, 1, 46] target is 43\n",
      "when input is [24, 43, 58, 5, 57, 1, 46, 43] target is 39\n",
      "when input is [44] target is 53\n",
      "when input is [44, 53] target is 56\n",
      "when input is [44, 53, 56] target is 1\n",
      "when input is [44, 53, 56, 1] target is 58\n",
      "when input is [44, 53, 56, 1, 58] target is 46\n",
      "when input is [44, 53, 56, 1, 58, 46] target is 39\n",
      "when input is [44, 53, 56, 1, 58, 46, 39] target is 58\n",
      "when input is [44, 53, 56, 1, 58, 46, 39, 58] target is 1\n",
      "when input is [52] target is 58\n",
      "when input is [52, 58] target is 1\n",
      "when input is [52, 58, 1] target is 58\n",
      "when input is [52, 58, 1, 58] target is 46\n",
      "when input is [52, 58, 1, 58, 46] target is 39\n",
      "when input is [52, 58, 1, 58, 46, 39] target is 58\n",
      "when input is [52, 58, 1, 58, 46, 39, 58] target is 1\n",
      "when input is [52, 58, 1, 58, 46, 39, 58, 1] target is 46\n",
      "when input is [25] target is 17\n",
      "when input is [25, 17] target is 27\n",
      "when input is [25, 17, 27] target is 10\n",
      "when input is [25, 17, 27, 10] target is 0\n",
      "when input is [25, 17, 27, 10, 0] target is 21\n",
      "when input is [25, 17, 27, 10, 0, 21] target is 1\n",
      "when input is [25, 17, 27, 10, 0, 21, 1] target is 54\n",
      "when input is [25, 17, 27, 10, 0, 21, 1, 54] target is 39\n",
      "when input is [57] target is 43\n",
      "when input is [57, 43] target is 60\n",
      "when input is [57, 43, 60] target is 43\n",
      "when input is [57, 43, 60, 43] target is 52\n",
      "when input is [57, 43, 60, 43, 52] target is 1\n",
      "when input is [57, 43, 60, 43, 52, 1] target is 63\n",
      "when input is [57, 43, 60, 43, 52, 1, 63] target is 43\n",
      "when input is [57, 43, 60, 43, 52, 1, 63, 43] target is 39\n",
      "when input is [60] target is 43\n",
      "when input is [60, 43] target is 42\n",
      "when input is [60, 43, 42] target is 8\n",
      "when input is [60, 43, 42, 8] target is 0\n",
      "when input is [60, 43, 42, 8, 0] target is 25\n",
      "when input is [60, 43, 42, 8, 0, 25] target is 63\n",
      "when input is [60, 43, 42, 8, 0, 25, 63] target is 1\n",
      "when input is [60, 43, 42, 8, 0, 25, 63, 1] target is 45\n",
      "when input is [56] target is 42\n",
      "when input is [56, 42] target is 5\n",
      "when input is [56, 42, 5] target is 57\n",
      "when input is [56, 42, 5, 57] target is 1\n",
      "when input is [56, 42, 5, 57, 1] target is 57\n",
      "when input is [56, 42, 5, 57, 1, 57] target is 39\n",
      "when input is [56, 42, 5, 57, 1, 57, 39] target is 49\n",
      "when input is [56, 42, 5, 57, 1, 57, 39, 49] target is 43\n",
      "when input is [43] target is 57\n",
      "when input is [43, 57] target is 58\n",
      "when input is [43, 57, 58] target is 63\n",
      "when input is [43, 57, 58, 63] target is 6\n",
      "when input is [43, 57, 58, 63, 6] target is 1\n",
      "when input is [43, 57, 58, 63, 6, 1] target is 58\n",
      "when input is [43, 57, 58, 63, 6, 1, 58] target is 46\n",
      "when input is [43, 57, 58, 63, 6, 1, 58, 46] target is 47\n",
      "when input is [43] target is 1\n",
      "when input is [43, 1] target is 51\n",
      "when input is [43, 1, 51] target is 39\n",
      "when input is [43, 1, 51, 39] target is 63\n",
      "when input is [43, 1, 51, 39, 63] target is 1\n",
      "when input is [43, 1, 51, 39, 63, 1] target is 40\n",
      "when input is [43, 1, 51, 39, 63, 1, 40] target is 43\n",
      "when input is [43, 1, 51, 39, 63, 1, 40, 43] target is 1\n",
      "when input is [58] target is 46\n",
      "when input is [58, 46] target is 43\n",
      "when input is [58, 46, 43] target is 1\n",
      "when input is [58, 46, 43, 1] target is 43\n",
      "when input is [58, 46, 43, 1, 43] target is 39\n",
      "when input is [58, 46, 43, 1, 43, 39] target is 56\n",
      "when input is [58, 46, 43, 1, 43, 39, 56] target is 57\n",
      "when input is [58, 46, 43, 1, 43, 39, 56, 57] target is 10\n",
      "when input is [39] target is 58\n",
      "when input is [39, 58] target is 47\n",
      "when input is [39, 58, 47] target is 53\n",
      "when input is [39, 58, 47, 53] target is 52\n",
      "when input is [39, 58, 47, 53, 52] target is 12\n",
      "when input is [39, 58, 47, 53, 52, 12] target is 1\n",
      "when input is [39, 58, 47, 53, 52, 12, 1] target is 37\n",
      "when input is [39, 58, 47, 53, 52, 12, 1, 37] target is 53\n",
      "when input is [53] target is 56\n",
      "when input is [53, 56] target is 43\n",
      "when input is [53, 56, 43] target is 1\n",
      "when input is [53, 56, 43, 1] target is 21\n",
      "when input is [53, 56, 43, 1, 21] target is 1\n",
      "when input is [53, 56, 43, 1, 21, 1] target is 41\n",
      "when input is [53, 56, 43, 1, 21, 1, 41] target is 39\n",
      "when input is [53, 56, 43, 1, 21, 1, 41, 39] target is 51\n",
      "when input is [50] target is 39\n",
      "when input is [50, 39] target is 52\n",
      "when input is [50, 39, 52] target is 63\n",
      "when input is [50, 39, 52, 63] target is 1\n",
      "when input is [50, 39, 52, 63, 1] target is 47\n",
      "when input is [50, 39, 52, 63, 1, 47] target is 58\n",
      "when input is [50, 39, 52, 63, 1, 47, 58] target is 57\n",
      "when input is [50, 39, 52, 63, 1, 47, 58, 57] target is 43\n",
      "when input is [56] target is 53\n",
      "when input is [56, 53] target is 63\n",
      "when input is [56, 53, 63] target is 1\n",
      "when input is [56, 53, 63, 1] target is 42\n",
      "when input is [56, 53, 63, 1, 42] target is 47\n",
      "when input is [56, 53, 63, 1, 42, 47] target is 42\n",
      "when input is [56, 53, 63, 1, 42, 47, 42] target is 1\n",
      "when input is [56, 53, 63, 1, 42, 47, 42, 1] target is 57\n",
      "when input is [39] target is 51\n",
      "when input is [39, 51] target is 1\n",
      "when input is [39, 51, 1] target is 39\n",
      "when input is [39, 51, 1, 39] target is 44\n",
      "when input is [39, 51, 1, 39, 44] target is 56\n",
      "when input is [39, 51, 1, 39, 44, 56] target is 39\n",
      "when input is [39, 51, 1, 39, 44, 56, 39] target is 47\n",
      "when input is [39, 51, 1, 39, 44, 56, 39, 47] target is 42\n",
      "when input is [17] target is 24\n",
      "when input is [17, 24] target is 21\n",
      "when input is [17, 24, 21] target is 38\n",
      "when input is [17, 24, 21, 38] target is 13\n",
      "when input is [17, 24, 21, 38, 13] target is 14\n",
      "when input is [17, 24, 21, 38, 13, 14] target is 17\n",
      "when input is [17, 24, 21, 38, 13, 14, 17] target is 32\n",
      "when input is [17, 24, 21, 38, 13, 14, 17, 32] target is 20\n",
      "when input is [1] target is 39\n",
      "when input is [1, 39] target is 52\n",
      "when input is [1, 39, 52] target is 42\n",
      "when input is [1, 39, 52, 42] target is 1\n",
      "when input is [1, 39, 52, 42, 1] target is 45\n",
      "when input is [1, 39, 52, 42, 1, 45] target is 43\n",
      "when input is [1, 39, 52, 42, 1, 45, 43] target is 50\n",
      "when input is [1, 39, 52, 42, 1, 45, 43, 50] target is 42\n",
      "when input is [1] target is 58\n",
      "when input is [1, 58] target is 46\n",
      "when input is [1, 58, 46] target is 39\n",
      "when input is [1, 58, 46, 39] target is 58\n",
      "when input is [1, 58, 46, 39, 58] target is 1\n",
      "when input is [1, 58, 46, 39, 58, 1] target is 42\n",
      "when input is [1, 58, 46, 39, 58, 1, 42] target is 53\n",
      "when input is [1, 58, 46, 39, 58, 1, 42, 53] target is 1\n",
      "when input is [1] target is 61\n",
      "when input is [1, 61] target is 53\n",
      "when input is [1, 61, 53] target is 59\n",
      "when input is [1, 61, 53, 59] target is 50\n",
      "when input is [1, 61, 53, 59, 50] target is 42\n",
      "when input is [1, 61, 53, 59, 50, 42] target is 1\n",
      "when input is [1, 61, 53, 59, 50, 42, 1] target is 21\n",
      "when input is [1, 61, 53, 59, 50, 42, 1, 21] target is 1\n",
      "when input is [59] target is 57\n",
      "when input is [59, 57] target is 40\n",
      "when input is [59, 57, 40] target is 39\n",
      "when input is [59, 57, 40, 39] target is 52\n",
      "when input is [59, 57, 40, 39, 52] target is 42\n",
      "when input is [59, 57, 40, 39, 52, 42] target is 1\n",
      "when input is [59, 57, 40, 39, 52, 42, 1] target is 40\n",
      "when input is [59, 57, 40, 39, 52, 42, 1, 40] target is 47\n",
      "when input is [52] target is 42\n",
      "when input is [52, 42] target is 8\n",
      "when input is [52, 42, 8] target is 0\n",
      "when input is [52, 42, 8, 0] target is 0\n",
      "when input is [52, 42, 8, 0, 0] target is 23\n",
      "when input is [52, 42, 8, 0, 0, 23] target is 21\n",
      "when input is [52, 42, 8, 0, 0, 23, 21] target is 26\n",
      "when input is [52, 42, 8, 0, 0, 23, 21, 26] target is 19\n",
      "when input is [45] target is 53\n",
      "when input is [45, 53] target is 42\n",
      "when input is [45, 53, 42] target is 57\n",
      "when input is [45, 53, 42, 57] target is 0\n",
      "when input is [45, 53, 42, 57, 0] target is 23\n",
      "when input is [45, 53, 42, 57, 0, 23] target is 43\n",
      "when input is [45, 53, 42, 57, 0, 23, 43] target is 43\n",
      "when input is [45, 53, 42, 57, 0, 23, 43, 43] target is 54\n",
      "when input is [52] target is 1\n",
      "when input is [52, 1] target is 61\n",
      "when input is [52, 1, 61] target is 39\n",
      "when input is [52, 1, 61, 39] target is 57\n",
      "when input is [52, 1, 61, 39, 57] target is 1\n",
      "when input is [52, 1, 61, 39, 57, 1] target is 51\n",
      "when input is [52, 1, 61, 39, 57, 1, 51] target is 53\n",
      "when input is [52, 1, 61, 39, 57, 1, 51, 53] target is 56\n",
      "when input is [39] target is 49\n",
      "when input is [39, 49] target is 12\n",
      "when input is [39, 49, 12] target is 1\n",
      "when input is [39, 49, 12, 1] target is 27\n",
      "when input is [39, 49, 12, 1, 27] target is 1\n",
      "when input is [39, 49, 12, 1, 27, 1] target is 58\n",
      "when input is [39, 49, 12, 1, 27, 1, 58] target is 56\n",
      "when input is [39, 49, 12, 1, 27, 1, 58, 56] target is 39\n",
      "when input is [53] target is 44\n",
      "when input is [53, 44] target is 1\n",
      "when input is [53, 44, 1] target is 57\n",
      "when input is [53, 44, 1, 57] target is 54\n",
      "when input is [53, 44, 1, 57, 54] target is 43\n",
      "when input is [53, 44, 1, 57, 54, 43] target is 43\n",
      "when input is [53, 44, 1, 57, 54, 43, 43] target is 41\n",
      "when input is [53, 44, 1, 57, 54, 43, 43, 41] target is 46\n",
      "when input is [57] target is 53\n",
      "when input is [57, 53] target is 52\n",
      "when input is [57, 53, 52] target is 57\n",
      "when input is [57, 53, 52, 57] target is 8\n",
      "when input is [57, 53, 52, 57, 8] target is 0\n",
      "when input is [57, 53, 52, 57, 8, 0] target is 0\n",
      "when input is [57, 53, 52, 57, 8, 0, 0] target is 25\n",
      "when input is [57, 53, 52, 57, 8, 0, 0, 25] target is 17\n",
      "when input is [1] target is 42\n",
      "when input is [1, 42] target is 43\n",
      "when input is [1, 42, 43] target is 44\n",
      "when input is [1, 42, 43, 44] target is 43\n",
      "when input is [1, 42, 43, 44, 43] target is 41\n",
      "when input is [1, 42, 43, 44, 43, 41] target is 58\n",
      "when input is [1, 42, 43, 44, 43, 41, 58] target is 1\n",
      "when input is [1, 42, 43, 44, 43, 41, 58, 1] target is 53\n",
      "when input is [21] target is 1\n",
      "when input is [21, 1] target is 61\n",
      "when input is [21, 1, 61] target is 39\n",
      "when input is [21, 1, 61, 39] target is 52\n",
      "when input is [21, 1, 61, 39, 52] target is 42\n",
      "when input is [21, 1, 61, 39, 52, 42] target is 43\n",
      "when input is [21, 1, 61, 39, 52, 42, 43] target is 56\n",
      "when input is [21, 1, 61, 39, 52, 42, 43, 56] target is 6\n",
      "when input is [43] target is 43\n",
      "when input is [43, 43] target is 51\n",
      "when input is [43, 43, 51] target is 5\n",
      "when input is [43, 43, 51, 5] target is 42\n",
      "when input is [43, 43, 51, 5, 42] target is 1\n",
      "when input is [43, 43, 51, 5, 42, 1] target is 40\n",
      "when input is [43, 43, 51, 5, 42, 1, 40] target is 59\n",
      "when input is [43, 43, 51, 5, 42, 1, 40, 59] target is 56\n",
      "when input is [45] target is 50\n",
      "when input is [45, 50] target is 63\n",
      "when input is [45, 50, 63] target is 1\n",
      "when input is [45, 50, 63, 1] target is 52\n",
      "when input is [45, 50, 63, 1, 52] target is 53\n",
      "when input is [45, 50, 63, 1, 52, 53] target is 61\n",
      "when input is [45, 50, 63, 1, 52, 53, 61] target is 12\n",
      "when input is [45, 50, 63, 1, 52, 53, 61, 12] target is 0\n",
      "when input is [52] target is 53\n",
      "when input is [52, 53] target is 58\n",
      "when input is [52, 53, 58] target is 8\n",
      "when input is [52, 53, 58, 8] target is 0\n",
      "when input is [52, 53, 58, 8, 0] target is 25\n",
      "when input is [52, 53, 58, 8, 0, 25] target is 63\n",
      "when input is [52, 53, 58, 8, 0, 25, 63] target is 1\n",
      "when input is [52, 53, 58, 8, 0, 25, 63, 1] target is 61\n",
      "when input is [53] target is 58\n",
      "when input is [53, 58] target is 6\n",
      "when input is [53, 58, 6] target is 1\n",
      "when input is [53, 58, 6, 1] target is 51\n",
      "when input is [53, 58, 6, 1, 51] target is 63\n",
      "when input is [53, 58, 6, 1, 51, 63] target is 1\n",
      "when input is [53, 58, 6, 1, 51, 63, 1] target is 50\n",
      "when input is [53, 58, 6, 1, 51, 63, 1, 50] target is 53\n"
     ]
    }
   ],
   "source": [
    "def get_batch(split):\n",
    "    data = train_data if split == \"train\" else val_data\n",
    "    ix = torch.randint(len(data)-block_size, (batch_size,))\n",
    "    x = torch.stack([data[i:i+block_size] for i in ix])\n",
    "    y = torch.stack([data[i+1:i+block_size+1] for i in ix])\n",
    "    x, y = x.to(device), y.to(device)\n",
    "    return x,y\n",
    "\n",
    "xb, yb = get_batch(\"train\")\n",
    "print(\"inputs:\")\n",
    "print(xb.shape)\n",
    "print(xb)\n",
    "print(\"targets:\")\n",
    "print(yb.shape)\n",
    "print(yb)\n",
    "\n",
    "print(\"------\")\n",
    "\n",
    "for b in range(batch_size):\n",
    "    for t in range(block_size):\n",
    "        context = xb[b,:t+1]\n",
    "        target = yb[b,t]\n",
    "        print(f\"when input is {context.tolist()} target is {target}\")"
   ]
  },
  {
   "cell_type": "code",
   "execution_count": 57,
   "metadata": {},
   "outputs": [],
   "source": [
    "@torch.no_grad()\n",
    "def estimate_loss():\n",
    "    out = {}\n",
    "    m.eval()\n",
    "    for split in [\"train\", \"val\"]:\n",
    "        losses = torch.zeros(eval_iters)\n",
    "        for k in range(eval_iters):\n",
    "            X, Y = get_batch(split)\n",
    "            logits, loss = m(X, Y)\n",
    "            losses[k] = loss.item()\n",
    "        out[split] = losses.mean()\n",
    "    m.train()\n",
    "    return out"
   ]
  },
  {
   "cell_type": "code",
   "execution_count": 44,
   "metadata": {},
   "outputs": [
    {
     "name": "stdout",
     "output_type": "stream",
     "text": [
      "torch.Size([256, 65])\n",
      "tensor(4.3284, device='cuda:0', grad_fn=<NllLossBackward0>)\n",
      "\n",
      "?qfzxbDkRZkNwc.wf,ZTkOLlT,eCsK\n",
      "b:!PTYkMBbAA$H:XaSvgO-33jMBF?gLTa\n",
      "hXFYVXJFpXeNuhqcBM&v.t?VFYdXlaDZa.e\n"
     ]
    }
   ],
   "source": [
    "class BigramLanguageModel(nn.Module):\n",
    "    def __init__(self):\n",
    "        super().__init__()\n",
    "        self.token_embedding_table = nn.Embedding(vocab_size, n_embd)\n",
    "        self.position_embedding_table = nn.Embedding(block_size, n_embd)\n",
    "        self.lm_head = nn.Linear(n_embd, vocab_size)\n",
    "\n",
    "    def forward(self, idx, targets = None):\n",
    "        B, T = idx.shape\n",
    "        tok_emd = self.token_embedding_table(idx) # B, T, C\n",
    "        pos_emd = self.position_embedding_table(torch.arange(T, device=device)) # T, C\n",
    "        x = tok_emd + pos_emd # B, T, C\n",
    "        logits = self.lm_head(x) # B, T, Vocab_Size\n",
    "\n",
    "        if targets is None:\n",
    "            loss = None\n",
    "\n",
    "        else:\n",
    "            B, T, C = logits.shape\n",
    "            logits = logits.view(B*T, C)\n",
    "\n",
    "            targets = targets.view(B*T)\n",
    "\n",
    "            loss = F.cross_entropy(logits, targets)\n",
    "\n",
    "        return logits, loss\n",
    "    \n",
    "    def generate(self, idx, max_new_tokens):\n",
    "        for _ in range(max_new_tokens):\n",
    "            logits, loss = self(idx)\n",
    "\n",
    "            logits = logits[:, -1, :]\n",
    "\n",
    "            probs = F.softmax(logits, dim=-1)\n",
    "\n",
    "            idx_next = torch.multinomial(probs, num_samples=1)\n",
    "\n",
    "            idx = torch.cat([idx, idx_next], dim=1)\n",
    "        return idx\n",
    "\n",
    "    \n",
    "m = BigramLanguageModel()\n",
    "m = m.to(device)\n",
    "logits, loss = m(xb, yb)\n",
    "print(logits.shape)\n",
    "print(loss)\n",
    "\n",
    "\n",
    "print(decode(m.generate(idx = torch.zeros((1,1), dtype=torch.long, device=device), max_new_tokens=100)[0].tolist()))"
   ]
  },
  {
   "cell_type": "code",
   "execution_count": 71,
   "metadata": {},
   "outputs": [
    {
     "data": {
      "text/plain": [
       "torch.Size([4, 8, 16])"
      ]
     },
     "execution_count": 71,
     "metadata": {},
     "output_type": "execute_result"
    }
   ],
   "source": [
    "torch.manual_seed(1337)\n",
    "B, T, C = 4, 8, 32\n",
    "x = torch.randn(B, T, C)\n",
    "\n",
    "head_size = 16\n",
    "key = nn.Linear(C, head_size, bias=False)\n",
    "query = nn.Linear(C, head_size, bias=False)\n",
    "value = nn.Linear(C, head_size, bias=False)\n",
    "\n",
    "key = key(x)\n",
    "query = query(x)\n",
    "\n",
    "wei = query @ key.transpose(-2, -1) # (B, T, C) @ (B, 16, T) --> (B, T, T)\n",
    "\n",
    "tril = torch.tril(torch.ones(T, T))\n",
    "# wei = torch.zeros((T, T))\n",
    "wei = wei.masked_fill(tril == 0, float(\"-inf\"))\n",
    "wei = F.softmax(wei, dim=-1)\n",
    "\n",
    "v = value(x)\n",
    "out = wei @ v\n",
    "# out = wei @ x\n",
    "\n",
    "out.shape"
   ]
  },
  {
   "cell_type": "code",
   "execution_count": 72,
   "metadata": {},
   "outputs": [
    {
     "data": {
      "text/plain": [
       "tensor([[1.0000, 0.0000, 0.0000, 0.0000, 0.0000, 0.0000, 0.0000, 0.0000],\n",
       "        [0.1574, 0.8426, 0.0000, 0.0000, 0.0000, 0.0000, 0.0000, 0.0000],\n",
       "        [0.2088, 0.1646, 0.6266, 0.0000, 0.0000, 0.0000, 0.0000, 0.0000],\n",
       "        [0.5792, 0.1187, 0.1889, 0.1131, 0.0000, 0.0000, 0.0000, 0.0000],\n",
       "        [0.0294, 0.1052, 0.0469, 0.0276, 0.7909, 0.0000, 0.0000, 0.0000],\n",
       "        [0.0176, 0.2689, 0.0215, 0.0089, 0.6812, 0.0019, 0.0000, 0.0000],\n",
       "        [0.1691, 0.4066, 0.0438, 0.0416, 0.1048, 0.2012, 0.0329, 0.0000],\n",
       "        [0.0210, 0.0843, 0.0555, 0.2297, 0.0573, 0.0709, 0.2423, 0.2391]],\n",
       "       grad_fn=<SelectBackward0>)"
      ]
     },
     "execution_count": 72,
     "metadata": {},
     "output_type": "execute_result"
    }
   ],
   "source": [
    "wei[0]"
   ]
  },
  {
   "cell_type": "code",
   "execution_count": 45,
   "metadata": {},
   "outputs": [],
   "source": [
    "optimizer = torch.optim.AdamW(m.parameters(), lr=1e-3)"
   ]
  },
  {
   "cell_type": "code",
   "execution_count": 19,
   "metadata": {},
   "outputs": [
    {
     "name": "stdout",
     "output_type": "stream",
     "text": [
      "iter 0 train loss 4.7680 val loss 4.7682\n",
      "iter 300 train loss 4.4345 val loss 4.4410\n",
      "iter 600 train loss 4.1323 val loss 4.1360\n",
      "iter 900 train loss 3.8590 val loss 3.8622\n",
      "iter 1200 train loss 3.6255 val loss 3.6418\n",
      "iter 1500 train loss 3.4225 val loss 3.4338\n",
      "iter 1800 train loss 3.2562 val loss 3.2614\n",
      "iter 2100 train loss 3.1171 val loss 3.1203\n",
      "iter 2400 train loss 2.9935 val loss 3.0097\n",
      "iter 2700 train loss 2.9060 val loss 2.9086\n",
      "iter 3000 train loss 2.8241 val loss 2.8312\n",
      "iter 3300 train loss 2.7674 val loss 2.7653\n",
      "iter 3600 train loss 2.7024 val loss 2.7277\n",
      "iter 3900 train loss 2.6696 val loss 2.6842\n",
      "iter 4200 train loss 2.6352 val loss 2.6499\n",
      "iter 4500 train loss 2.6013 val loss 2.6128\n",
      "iter 4800 train loss 2.5786 val loss 2.5942\n",
      "iter 5100 train loss 2.5672 val loss 2.5836\n",
      "iter 5400 train loss 2.5527 val loss 2.5697\n",
      "iter 5700 train loss 2.5437 val loss 2.5453\n",
      "iter 6000 train loss 2.5311 val loss 2.5276\n",
      "iter 6300 train loss 2.5181 val loss 2.5328\n",
      "iter 6600 train loss 2.5183 val loss 2.5280\n",
      "iter 6900 train loss 2.4932 val loss 2.5228\n",
      "iter 7200 train loss 2.4913 val loss 2.5110\n",
      "iter 7500 train loss 2.4913 val loss 2.5136\n",
      "iter 7800 train loss 2.4732 val loss 2.5126\n",
      "iter 8100 train loss 2.4853 val loss 2.5108\n",
      "iter 8400 train loss 2.4779 val loss 2.5024\n",
      "iter 8700 train loss 2.4778 val loss 2.4929\n",
      "iter 9000 train loss 2.4697 val loss 2.4954\n",
      "iter 9300 train loss 2.4704 val loss 2.4961\n",
      "iter 9600 train loss 2.4753 val loss 2.4952\n",
      "iter 9900 train loss 2.4640 val loss 2.4883\n",
      "2.4642395973205566\n"
     ]
    }
   ],
   "source": [
    "batch_size = 32\n",
    "for iter in range(10000):\n",
    "\n",
    "    if iter % eval_interval == 0:\n",
    "        losses = estimate_loss()\n",
    "        print(f\"iter {iter} train loss {losses['train']:.4f} val loss {losses['val']:.4f}\")\n",
    "\n",
    "\n",
    "    xb, yb = get_batch(\"train\")\n",
    "    logits, loss = m(xb, yb)\n",
    "    optimizer.zero_grad(set_to_none=True)\n",
    "    loss.backward()\n",
    "    optimizer.step()\n",
    "\n",
    "print(loss.item())\n",
    "    "
   ]
  },
  {
   "cell_type": "code",
   "execution_count": 20,
   "metadata": {},
   "outputs": [
    {
     "name": "stdout",
     "output_type": "stream",
     "text": [
      "\n",
      "Wawice my.\n",
      "\n",
      "HNEdarom oroup\n",
      "Yowhthetof isth ble mil ndill, ath iree sengmin lat Heridrovets, and Wh p.\n",
      "Gore yojus!\n",
      "el lind me l.\n",
      "HAshe ce hiry:\n",
      "Supr aisspllw y.\n",
      "Hurindu n Boopetelaves\n",
      "MP:\n",
      "\n",
      "Pl, d mothakleo Windo whthCorib3MI'Tham dourive we higend t so mower; te\n",
      "\n",
      "AN ad nterupt f s ar igr t m:\n",
      "\n",
      "Thiny aleronth,\n",
      "Mad re?\n",
      "\n",
      "WISo myr f-NLIERor,\n",
      "SS&isarardsal thes ghesthidin cour ay aney Iry ts I fr t ce.\n",
      "Jken pand, bemary.\n",
      "Yor 'Wour menm sora anghy t-e nomes twe ten.\n",
      "Wand thot sulin s th llety ome.\n",
      "I muc\n"
     ]
    }
   ],
   "source": [
    "context = torch.zeros((1,1), dtype=torch.long, device=device)\n",
    "print(decode(m.generate(context, max_new_tokens=500)[0].tolist()))"
   ]
  },
  {
   "cell_type": "code",
   "execution_count": 21,
   "metadata": {},
   "outputs": [
    {
     "data": {
      "text/plain": [
       "torch.Size([4, 8, 2])"
      ]
     },
     "execution_count": 21,
     "metadata": {},
     "output_type": "execute_result"
    }
   ],
   "source": [
    "B, T, C = 4, 8, 2\n",
    "x = torch.randn(B, T, C)\n",
    "x.shape"
   ]
  },
  {
   "cell_type": "code",
   "execution_count": 22,
   "metadata": {},
   "outputs": [],
   "source": [
    "xbow = torch.zeros((B, T, C))\n",
    "for b in range(B):\n",
    "    for t in range(T):\n",
    "        xprev = x[b,:t+1]\n",
    "        xbow[b,t] = torch.mean(xprev, dim=0)"
   ]
  },
  {
   "cell_type": "code",
   "execution_count": 30,
   "metadata": {},
   "outputs": [
    {
     "data": {
      "text/plain": [
       "True"
      ]
     },
     "execution_count": 30,
     "metadata": {},
     "output_type": "execute_result"
    }
   ],
   "source": [
    "wei = torch.tril(torch.ones(T,T))\n",
    "wei = wei / wei.sum(dim=1, keepdim=True)\n",
    "xbow2 = wei @ x\n",
    "torch.allclose(xbow, xbow2)"
   ]
  },
  {
   "cell_type": "code",
   "execution_count": 31,
   "metadata": {},
   "outputs": [
    {
     "data": {
      "text/plain": [
       "True"
      ]
     },
     "execution_count": 31,
     "metadata": {},
     "output_type": "execute_result"
    }
   ],
   "source": [
    "tril = torch.tril(torch.ones(T,T))\n",
    "wei = torch.zeros((T,T))\n",
    "wei = wei.masked_fill(tril==0, float(\"-inf\"))\n",
    "wei = F.softmax(wei, dim=1)\n",
    "xbow3 = wei @ x\n",
    "torch.allclose(xbow, xbow3)"
   ]
  },
  {
   "cell_type": "code",
   "execution_count": 28,
   "metadata": {},
   "outputs": [
    {
     "name": "stdout",
     "output_type": "stream",
     "text": [
      "tensor([[1.0000, 0.0000, 0.0000],\n",
      "        [0.5000, 0.5000, 0.0000],\n",
      "        [0.3333, 0.3333, 0.3333]])\n",
      "tensor([[4., 3.],\n",
      "        [7., 6.],\n",
      "        [1., 9.]])\n",
      "tensor([[4.0000, 3.0000],\n",
      "        [5.5000, 4.5000],\n",
      "        [4.0000, 6.0000]])\n"
     ]
    }
   ],
   "source": [
    "a = torch.tril(torch.ones((3,3)))\n",
    "a = a / torch.sum(a, dim=1, keepdim=True)\n",
    "b = torch.randint(0, 10, (3,2)).float()\n",
    "c = a @ b\n",
    "\n",
    "print(a)\n",
    "\n",
    "print(b)\n",
    "\n",
    "print(c)"
   ]
  }
 ],
 "metadata": {
  "kernelspec": {
   "display_name": "Python 3",
   "language": "python",
   "name": "python3"
  },
  "language_info": {
   "codemirror_mode": {
    "name": "ipython",
    "version": 3
   },
   "file_extension": ".py",
   "mimetype": "text/x-python",
   "name": "python",
   "nbconvert_exporter": "python",
   "pygments_lexer": "ipython3",
   "version": "3.10.0"
  }
 },
 "nbformat": 4,
 "nbformat_minor": 2
}
